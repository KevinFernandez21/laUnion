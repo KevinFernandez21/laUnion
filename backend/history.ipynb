{
 "cells": [
  {
   "cell_type": "code",
   "execution_count": 42,
   "metadata": {},
   "outputs": [],
   "source": [
    "import PIL.Image\n",
    "import google.generativeai as genai\n",
    "from dotenv import load_dotenv\n",
    "import os"
   ]
  },
  {
   "cell_type": "code",
   "execution_count": 43,
   "metadata": {},
   "outputs": [],
   "source": [
    "load_dotenv()\n",
    "genai.configure(api_key=os.environ[\"GOOGLE_API_KEY\"])\n",
    "model = genai.GenerativeModel(\"gemini-1.5-flash\")"
   ]
  },
  {
   "cell_type": "code",
   "execution_count": 44,
   "metadata": {},
   "outputs": [],
   "source": [
    "hoja_guia = genai.upload_file(path=\"./imagenes_de_analisis/reconocer_hoja_guia/pruebahoja1.jpg\")\n",
    "hoja_de_encuesta = genai.upload_file(path=\"./imagenes_de_analisis/reconocer_hoja_guia/pruebahoja.jpg\")\n",
    "hoja_de_encuesta1 = genai.upload_file(path=\"./imagenes_de_analisis/reconocer_hoja_guia/pruebahoja3.jpg\")\n",
    "hoja_de_encuesta2 = genai.upload_file(path=\"./imagenes_de_analisis/reconocer_hoja_guia/pruebahoja4.jpg\")\n",
    "hoja_de_encuesta3 = genai.upload_file(path=\"./imagenes_de_analisis/reconocer_hoja_guia/pruebahoja2.jpg\")\n",
    "hoja_de_encuesta4 = genai.upload_file(path=\"./imagenes_de_analisis/reconocer_hoja_guia/hojaguia6.jpg\")\n",
    "hoja_de_encuesta5 = genai.upload_file(path=\"./imagenes_de_analisis/reconocer_hoja_guia/hojaguia7.jpg\")\n",
    "hoja_de_encuesta6 = genai.upload_file(path=\"./imagenes_de_analisis/reconocer_hoja_guia/hojaguia8.jpg\")\n",
    "hoja_de_encuesta7 = genai.upload_file(path=\"./imagenes_de_analisis/reconocer_hoja_guia/hojaguia9.jpg\")"
   ]
  },
  {
   "cell_type": "code",
   "execution_count": null,
   "metadata": {},
   "outputs": [],
   "source": [
    "chat = model.start_chat(\n",
    "    history=[\n",
    "        {\"role\": \"user\", \"parts\": [hoja_guia,\"Se te presentarán varias imágenes relacionadas con un levantamiento de datos. Solo debes responder con 'sí' si la imagen corresponde a una hoja guía, y 'no' en caso contrario. No es necesario que respondas más que eso. A continuación te mostraré las imágenes.\"]},\n",
    "        {\"role\": \"model\", \"parts\": \"Entiendo\"},\n",
    "        {\"role\": \"user\", \"parts\": [hoja_guia,\"Esto es una hoja guia\"]},\n",
    "        {\"role\": \"model\", \"parts\": \"Entiendo\"},\n",
    "        {\"role\": \"user\", \"parts\": [hoja_de_encuesta1,\"Esto no es una hoja guia\"]},\n",
    "        {\"role\": \"model\", \"parts\": \"Entiendo\"},\n",
    "        {\"role\": \"user\", \"parts\": [hoja_de_encuesta2,\"Esto no es una hoja guia\"]},\n",
    "        {\"role\": \"model\", \"parts\": \"Entiendo\"},\n",
    "        {\"role\": \"user\", \"parts\": [hoja_de_encuesta3,\"Esto no es una hoja guia\"]},\n",
    "        {\"role\": \"model\", \"parts\": \"Entiendo\"},\n",
    "        {\"role\": \"user\", \"parts\": [hoja_de_encuesta3]},\n",
    "        {\"role\": \"model\", \"parts\": \"no\"},\n",
    "        {\"role\": \"user\", \"parts\": [hoja_de_encuesta2]},\n",
    "        {\"role\": \"model\", \"parts\": \"no\"},\n",
    "        {\"role\": \"user\", \"parts\": [hoja_de_encuesta2]},\n",
    "        {\"role\": \"model\", \"parts\": \"no\"},\n",
    "        {\"role\": \"user\", \"parts\": [hoja_guia]},\n",
    "        {\"role\": \"model\", \"parts\": \"si\"},\n",
    "        {\"role\": \"user\", \"parts\": \"Recuerda que solo puedes decir si o no\"},\n",
    "        {\"role\": \"model\", \"parts\": \"Entiendo\"},\n",
    "    ]\n",
    ")\n"
   ]
  },
  {
   "cell_type": "code",
   "execution_count": 46,
   "metadata": {},
   "outputs": [
    {
     "data": {
      "text/plain": [
       "'sí\\n'"
      ]
     },
     "execution_count": 46,
     "metadata": {},
     "output_type": "execute_result"
    }
   ],
   "source": [
    "response = chat.send_message([hoja_guia, \"esto es una hoja guia?\"])\n",
    "response.text"
   ]
  },
  {
   "cell_type": "code",
   "execution_count": 5,
   "metadata": {},
   "outputs": [
    {
     "name": "stdout",
     "output_type": "stream",
     "text": [
      "```json\n",
      "[\n",
      "  {\n",
      "    \"APELLIDOS\": \"Dominguez Dominguez\",\n",
      "    \"NOMBRES\": \"Leonardo Daniel\",\n",
      "    \"CEDULA\": \"0955011507\",\n",
      "    \"SECTOR\": \"S1\",\n",
      "    \"HOGAR\": 65\n",
      "  },\n",
      "  {\n",
      "    \"APELLIDOS\": \"Villanueva Dominguez\",\n",
      "    \"NOMBRES\": \"Oswaldo Apolinario\",\n",
      "    \"CEDULA\": \"0908534795\",\n",
      "    \"SECTOR\": \"S1\",\n",
      "    \"HOGAR\": 66\n",
      "  },\n",
      "  {\n",
      "    \"APELLIDOS\": \"Villanueva Achiote\",\n",
      "    \"NOMBRES\": \"Christian Sebastian\",\n",
      "    \"CEDULA\": \"0940293160\",\n",
      "    \"SECTOR\": \"S1\",\n",
      "    \"HOGAR\": 67\n",
      "  },\n",
      "  {\n",
      "    \"APELLIDOS\": \"Villanueva Achiote\",\n",
      "    \"NOMBRES\": \"Jamileth Joselina\",\n",
      "    \"CEDULA\": \"0940010374\",\n",
      "    \"SECTOR\": \"S1\",\n",
      "    \"HOGAR\": 68\n",
      "  },\n",
      "  {\n",
      "    \"APELLIDOS\": \"Dominguez Cruz\",\n",
      "    \"NOMBRES\": \"Sergio Diego\",\n",
      "    \"CEDULA\": \"0916087737\",\n",
      "    \"SECTOR\": \"S1\",\n",
      "    \"HOGAR\": 69\n",
      "  },\n",
      "  {\n",
      "    \"APELLIDOS\": \"Dominguez Dominguez\",\n",
      "    \"NOMBRES\": \"Enriquie Moises\",\n",
      "    \"CEDULA\": \"0929952455\",\n",
      "    \"SECTOR\": \"S1\",\n",
      "    \"HOGAR\": 70\n",
      "  },\n",
      "  {\n",
      "    \"APELLIDOS\": \"Pazmiño Castro\",\n",
      "    \"NOMBRES\": \"Pedro Fidel\",\n",
      "    \"CEDULA\": \"0908144066\",\n",
      "    \"SECTOR\": \"S1\",\n",
      "    \"HOGAR\": 71\n",
      "  },\n",
      "  {\n",
      "    \"APELLIDOS\": \"Achiote Dominguez\",\n",
      "    \"NOMBRES\": \"Esleiter Jordan\",\n",
      "    \"CEDULA\": \"0956766349\",\n",
      "    \"SECTOR\": \"S1\",\n",
      "    \"HOGAR\": 72\n",
      "  },\n",
      "  {\n",
      "    \"APELLIDOS\": \"Dominguez Dominguez\",\n",
      "    \"NOMBRES\": \"Pedro Juan\",\n",
      "    \"CEDULA\": \"********\",\n",
      "    \"SECTOR\": \"S1\",\n",
      "    \"HOGAR\": 73\n",
      "  },\n",
      "  {\n",
      "    \"APELLIDOS\": \"Dominguez Achiote\",\n",
      "    \"NOMBRES\": \"Pablo\",\n",
      "    \"CEDULA\": \"0904273331\",\n",
      "    \"SECTOR\": \"S1\",\n",
      "    \"HOGAR\": 74\n",
      "  },\n",
      "  {\n",
      "    \"APELLIDOS\": \"Dominguez Dominguez\",\n",
      "    \"NOMBRES\": \"Sixto Daniel\",\n",
      "    \"CEDULA\": \"0925194706\",\n",
      "    \"SECTOR\": \"S1\",\n",
      "    \"HOGAR\": 75\n",
      "  },\n",
      "  {\n",
      "    \"APELLIDOS\": \"Villon Dominguez\",\n",
      "    \"NOMBRES\": \"Jacinto Enrique\",\n",
      "    \"CEDULA\": \"0905184545\",\n",
      "    \"SECTOR\": \"S1\",\n",
      "    \"HOGAR\": 76\n",
      "  },\n",
      "  {\n",
      "    \"APELLIDOS\": \"Villon Rosales\",\n",
      "    \"NOMBRES\": \"Fabian Armando\",\n",
      "    \"CEDULA\": \"0925268732\",\n",
      "    \"SECTOR\": \"S1\",\n",
      "    \"HOGAR\": 77\n",
      "  }\n",
      "]\n",
      "```\n"
     ]
    }
   ],
   "source": [
    "sample_file = genai.upload_file(path=\"./imagenes_de_analisis/img20241124_12413960.png\",\n",
    "                            display_name=\"Jetpack drawing\")\n",
    "response = model.generate_content([sample_file, \"Podrias decirme solo los datos que ves en la imagen? ejemplo [nombre, edad, etc] en JSON\"])\n",
    "print(response.text)"
   ]
  }
 ],
 "metadata": {
  "kernelspec": {
   "display_name": "env",
   "language": "python",
   "name": "python3"
  },
  "language_info": {
   "codemirror_mode": {
    "name": "ipython",
    "version": 3
   },
   "file_extension": ".py",
   "mimetype": "text/x-python",
   "name": "python",
   "nbconvert_exporter": "python",
   "pygments_lexer": "ipython3",
   "version": "3.12.5"
  }
 },
 "nbformat": 4,
 "nbformat_minor": 2
}
